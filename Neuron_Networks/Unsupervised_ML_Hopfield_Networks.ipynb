{
 "cells": [
  {
   "cell_type": "code",
   "execution_count": 1,
   "metadata": {
    "collapsed": true
   },
   "outputs": [],
   "source": [
    "import numpy as np\n",
    "from itertools import product\n",
    "import matplotlib.pyplot as plt"
   ]
  },
  {
   "cell_type": "code",
   "execution_count": 2,
   "metadata": {
    "collapsed": true
   },
   "outputs": [],
   "source": [
    "letter_dict = {\"shape\": (5, 5), \"d_value\": (-1, 1), \"letters\":\n",
    "               {\"D\": {\"indices\": np.array([[0, 0, 0, 0, 1, 1, 2, 2, 3, 3, 4, 4, 4], [0, 1, 2, 3, 1, 4, 1, 4, 1, 4, 1, 2, 3]])},\n",
    "               \"C\": {\"indices\": np.array([[0, 0, 0, 0, 1, 2, 3, 4, 4, 4, 4], [1, 2, 3, 4, 0, 0, 0, 1, 2, 3, 4]])},\n",
    "               \"J\": {\"indices\": np.array([[0, 0, 0, 0, 0, 1, 2, 3, 3, 4, 4, 4], [0, 1, 2, 3, 4, 3, 3, 0, 3, 0, 1, 2]])},\n",
    "               \"M\": {\"indices\": np.array([[0, 0, 1, 1, 1, 1, 2, 2, 2, 3, 3, 4, 4], [0, 4, 0, 1, 3, 4, 0, 2, 4, 0, 4, 0, 4]])}}}"
   ]
  },
  {
   "cell_type": "code",
   "execution_count": 3,
   "metadata": {},
   "outputs": [
    {
     "data": {
      "image/png": "[encoded data removed]",
      "text/plain": [
       "<matplotlib.figure.Figure at 0x223bc146898>"
      ]
     },
     "metadata": {},
     "output_type": "display_data"
    }
   ],
   "source": [
    "# create character as 5 by 5 matrix based on given X,Y indices\n",
    "def char_creator(dim, x_indices, y_indices):\n",
    "    empty = np.full(dim, -1)\n",
    "    empty[x_indices, y_indices] = 1\n",
    "    return(empty)\n",
    "\n",
    "def memory_initializer(l_dict):\n",
    "    # letters\n",
    "    letters = list(l_dict[\"letters\"].keys())\n",
    "    # number of letters\n",
    "    num_letters = len(letters)\n",
    "    # create an empty list to append letter arrays\n",
    "    arr_collection = []\n",
    "    # initialize an empty graph to present letters in the memory\n",
    "    fig, ax = plt.subplots(nrows=num_letters,ncols=1)\n",
    "    \n",
    "    # insert letters\n",
    "    for i in range(num_letters):\n",
    "        # create letters\n",
    "        row_index = l_dict[\"letters\"][letters[i]][\"indices\"][0]\n",
    "        col_index = l_dict[\"letters\"][letters[i]][\"indices\"][1]\n",
    "        arr_2d = char_creator(l_dict[\"shape\"], row_index, col_index)\n",
    "        # visualize letters\n",
    "        ax[i].imshow(arr_2d)\n",
    "        ax[i].tick_params(which='both', bottom=False, left=False, labelbottom=False, labelleft=False)\n",
    "        arr_1d = arr_2d.flatten()\n",
    "        arr_collection.append(arr_1d)\n",
    "    # show letters\n",
    "    plt.show()\n",
    "    # return a letter matrix\n",
    "    out_l_matrix = np.array(arr_collection).reshape(num_letters, np.square(l_dict[\"shape\"][0]))\n",
    "    return(out_l_matrix)\n",
    "arr_matrix = memory_initializer(letter_dict)"
   ]
  },
  {
   "cell_type": "code",
   "execution_count": 4,
   "metadata": {},
   "outputs": [
    {
     "data": {
      "image/png": "[encoded data removed]",
      "text/plain": [
       "<matplotlib.figure.Figure at 0x223bc5f54e0>"
      ]
     },
     "metadata": {},
     "output_type": "display_data"
    }
   ],
   "source": [
    "def mutator(in_char, mutants_num):\n",
    "    # claim system-wise variables\n",
    "    tmp = np.copy(in_char)\n",
    "    num_letters = tmp.shape[0]\n",
    "    num_flattend = tmp.shape[1]\n",
    "    dim = letter_dict[\"shape\"]\n",
    "    # create an empty graph to visualize mutated letters\n",
    "    fig, ax = plt.subplots(nrows=num_letters,ncols=1)\n",
    "    # mutate letters\n",
    "    for i in range(num_letters):\n",
    "        mut_ix = np.random.choice(num_flattend, mutants_num)\n",
    "        tmp[i, mut_ix] = -tmp[i, mut_ix]\n",
    "        ax[i].imshow(tmp[i].reshape(dim))\n",
    "        ax[i].tick_params(which='both', bottom=False, left=False, labelbottom=False, labelleft=False)\n",
    "    plt.show()\n",
    "    return(tmp)\n",
    "mutated_letters = mutator(arr_matrix, 3)"
   ]
  },
  {
   "cell_type": "code",
   "execution_count": 5,
   "metadata": {
    "scrolled": true
   },
   "outputs": [
    {
     "data": {
      "image/png": "[encoded data removed]",
      "text/plain": [
       "<matplotlib.figure.Figure at 0x223bc7dee80>"
      ]
     },
     "metadata": {},
     "output_type": "display_data"
    }
   ],
   "source": [
    "def Hopfield_NN_learner(matrix_in_memo, matrix_mutated, iteration):\n",
    "    # initialize system-wise variables\n",
    "    dim = letter_dict[\"shape\"]\n",
    "    num_letters = matrix_in_memo.shape[0]\n",
    "    num_flattened = matrix_in_memo.shape[1]\n",
    "    \n",
    "    # initialize an empty graph\n",
    "    fig, ax = plt.subplots(nrows=num_letters, ncols=iteration)\n",
    "    \n",
    "    # initialize the matrix originally stored in the memory\n",
    "    x = np.copy(matrix_in_memo)\n",
    "    # compute the matrix of connectivity weights\n",
    "    conn_weights = np.dot(x.T, x)\n",
    "    # convert the diagonal to 0\n",
    "    np.fill_diagonal(conn_weights, 0)\n",
    "    \n",
    "    # letters restoration\n",
    "    for i in range(iteration):\n",
    "        for row in range(num_letters):\n",
    "            # visualize letter from eazh round\n",
    "            ax[row, i].imshow(matrix_mutated[row].reshape(dim))\n",
    "            ax[row, i].tick_params(which='both', bottom=False, left=False, labelbottom=False, labelleft=False)\n",
    "            # feed the mutated array as training inputs to compute activations\n",
    "            a = np.dot(conn_weights, matrix_mutated[row])\n",
    "            # neuron activity\n",
    "            matrix_mutated[[row], a > 0] = 1\n",
    "            matrix_mutated[[row], a < 0] = -1\n",
    "    plt.show()\n",
    "predicted = Hopfield_NN_learner(arr_matrix, mutated_letters, 5)"
   ]
  },
  {
   "cell_type": "code",
   "execution_count": null,
   "metadata": {
    "collapsed": true
   },
   "outputs": [],
   "source": []
  }
 ],
 "metadata": {
  "kernelspec": {
   "display_name": "Python 3",
   "language": "python",
   "name": "python3"
  },
  "language_info": {
   "codemirror_mode": {
    "name": "ipython",
    "version": 3
   },
   "file_extension": ".py",
   "mimetype": "text/x-python",
   "name": "python",
   "nbconvert_exporter": "python",
   "pygments_lexer": "ipython3",
   "version": "3.5.3"
  }
 },
 "nbformat": 4,
 "nbformat_minor": 2
}
